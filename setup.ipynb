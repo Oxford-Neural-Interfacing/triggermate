{
 "cells": [
  {
   "cell_type": "code",
   "execution_count": null,
   "id": "a226002c-8c1a-4d9a-891e-6a468ad8ecdc",
   "metadata": {},
   "outputs": [],
   "source": []
  }
 ],
 "metadata": {
  "kernelspec": {
   "display_name": "syncmaster",
   "language": "python",
   "name": "syncmaster"
  }
 },
 "nbformat": 4,
 "nbformat_minor": 5
}
