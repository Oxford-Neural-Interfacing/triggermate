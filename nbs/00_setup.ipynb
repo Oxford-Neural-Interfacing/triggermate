{
 "cells": [
  {
   "cell_type": "markdown",
   "metadata": {},
   "source": [
    "# Setup\n",
    "\n",
    "> Connect the device to generate stimulation"
   ]
  },
  {
   "cell_type": "code",
   "execution_count": null,
   "metadata": {},
   "outputs": [],
   "source": [
    "#| hide\n",
    "from nbdev.showdoc import *"
   ]
  },
  {
   "cell_type": "markdown",
   "metadata": {},
   "source": [
    "In order to generate stimulation with the desired parameters, the device needs to be powered and connected to the target stimulator. A second output can be connected to a recording system if synchronised recordings are required during stimulation."
   ]
  },
  {
   "cell_type": "markdown",
   "metadata": {},
   "source": [
    "## Power\n",
    "\n",
    "The device should be connected to power using a standard USB cable. The device uses a microUSB connector.\n",
    "\n",
    "5V should be provided over the USB connector to power the device. This can be achieved by connecting the device to a USB port on a host computer or via a USB to mains adapter."
   ]
  },
  {
   "cell_type": "markdown",
   "metadata": {},
   "source": [
    "## Connecting to stimulation system\n",
    "\n",
    "The trigger out connector of the device should be connected to the trigger in connector of the target stimulator.\n",
    "\n",
    "The device provides a standard BNC output for the trigger signal. The trigger signal remains at 0V when not stimulating and generates square-wave pulses at 5V for 25$\\mu$s to trigger the target stimulator.\n",
    "\n",
    "The input device must therefore tolerate a 5V input. Most stimulation systems will be triggered by a rising edge, making the duration of the trigger pulse unimportant. However, some electrophysiological recording systems require a trigger pulse of a fixed duration to trigger. 25$\\mu$s is sufficient to trigger most commercial recording systems without excessively limiting the maximum achievable stimulation frequency."
   ]
  },
  {
   "cell_type": "markdown",
   "metadata": {},
   "source": [
    "## Using synchronisation signal\n",
    "\n",
    "The synchronisation output provides a means of linking the device to a recording system in order to trigger recordings time-locked to stimulation.\n",
    "\n",
    "This is provided via a second BNC output. This should be connected to the trigger input of the recording system.\n",
    "\n",
    "In `normal` and `high frequency` modes, a synchronisation pulse is sent on every trigger pulse, while in `burst` mode a synchronisation pulse is sent only on the first pulse of each burst. This allows recording to be synchronised to the start of each burst, rather than activating the recording system on every pulse within a burst.\n",
    "\n",
    "Most commercial EMG systems use a falling-edge signal to trigger recording. The synchronisation signal is therefore held at 5V. When sending a synchronisation pulse, the output is pulled down to 0V for 25$\\mu$s. This will trigger recording.\n",
    "\n",
    "Note that EMG systems vary in the format and pinout of their trigger connectors. This may therefore require a custom cable, e.g. a BNC to 9-pin sub-D connector cable, to connect the synchronisation signal output to the correct input pin on the target recording system.\n",
    "\n",
    "Examples of the synchronisation output for each stimulation type are shown in the [`triggering`](./triggering.html) section."
   ]
  },
  {
   "cell_type": "markdown",
   "metadata": {},
   "source": [
    "::: {.dark-mode}\n",
    "![Oxford Neural Interfacing 2023](oni.png)\n",
    ":::"
   ]
  },
  {
   "cell_type": "markdown",
   "metadata": {},
   "source": [
    "::: {.light-mode}\n",
    "![Oxford Neural Interfacing 2023](oni_blue.png)\n",
    ":::"
   ]
  },
  {
   "cell_type": "code",
   "execution_count": null,
   "metadata": {},
   "outputs": [],
   "source": [
    "#| hide\n",
    "import nbdev; nbdev.nbdev_export()"
   ]
  }
 ],
 "metadata": {
  "kernelspec": {
   "display_name": "python3",
   "language": "python",
   "name": "python3"
  }
 },
 "nbformat": 4,
 "nbformat_minor": 4
}
