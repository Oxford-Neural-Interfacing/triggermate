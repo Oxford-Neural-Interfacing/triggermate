{
 "cells": [
  {
   "cell_type": "markdown",
   "id": "a9a0bb12-8698-4873-aef6-1169bc23762e",
   "metadata": {},
   "source": [
    "# Contact\n",
    "\n",
    "> Contact us with questions or issues"
   ]
  },
  {
   "cell_type": "code",
   "execution_count": null,
   "id": "37b35d8f-b781-4f85-b765-40e60120fc49",
   "metadata": {},
   "outputs": [],
   "source": [
    "#| hide\n",
    "from nbdev.showdoc import *"
   ]
  },
  {
   "cell_type": "markdown",
   "id": "65e7dd51-8a23-4a79-887f-e9db9aa32994",
   "metadata": {},
   "source": [
    "The BurstMaster system was developed by the Oxford Neural Interfacing group for use in neuromodulation research. Please contact us with any questions or to report any issues with the system."
   ]
  },
  {
   "cell_type": "markdown",
   "id": "23a2f0d0-3d1d-435f-a70a-47506c9ed8d0",
   "metadata": {},
   "source": [
    "## Oxford Neural Interfacing\n",
    "\n",
    "Further information on the Oxford Neural interfacing group, our work and contact details can be found on the [group website](https://www.nds.ox.ac.uk/research/oxford-neural-interfacing \"Oxford Neural Interfacing website\")."
   ]
  },
  {
   "cell_type": "markdown",
   "id": "257b9ae5-eab1-4bbf-92e7-9160fe624436",
   "metadata": {},
   "source": [
    "## GitHub\n",
    "\n",
    "Information on the BurstMaster device can be found on the project's [GitHub respository](https://github.com/Oxford-Neural-Interfacing/burstmaster \"BurstMaster GitHub repository\").\n",
    "\n",
    "Issues can be reported via GitHub [here](https://github.com/conorkeogh/burstmaster/issues \"Report issues with BurstMaster\") or via the \"Report an issue\" link in the sidebar."
   ]
  },
  {
   "cell_type": "markdown",
   "id": "05fa2307-f89c-4740-af7b-8a87764c0f53",
   "metadata": {},
   "source": [
    "## Email\n",
    "\n",
    "Any further questions or issues related to the device can be directed to Conor Keogh: <conor.keogh@nds.ox.ac.uk>."
   ]
  },
  {
   "cell_type": "markdown",
   "id": "9b373eb3-7783-4fee-a080-32d847afae3a",
   "metadata": {},
   "source": [
    "::: {.callout-note}\n",
    "## Disclaimer\n",
    "\n",
    "The device is presented as-is. It is intended for use in a research setting. Users are responsible for the application of the device.\n",
    ":::"
   ]
  },
  {
   "cell_type": "markdown",
   "id": "d58a2214-7ebf-42a5-b31b-fc87b89698b3",
   "metadata": {},
   "source": [
    "::: {.dark-mode}\n",
    "![](oni.png)\n",
    ":::"
   ]
  },
  {
   "cell_type": "markdown",
   "id": "8766134c-7c14-4629-865c-1d660aa09d90",
   "metadata": {},
   "source": [
    "::: {.light-mode}\n",
    "![](oni_blue.png)\n",
    ":::"
   ]
  }
 ],
 "metadata": {
  "kernelspec": {
   "display_name": "syncmaster",
   "language": "python",
   "name": "syncmaster"
  }
 },
 "nbformat": 4,
 "nbformat_minor": 5
}
