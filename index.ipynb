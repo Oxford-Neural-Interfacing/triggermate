{
 "cells": [
  {
   "cell_type": "code",
   "execution_count": null,
   "id": "4118747a-8248-49dc-8d8b-60c874422717",
   "metadata": {},
   "outputs": [],
   "source": []
  }
 ],
 "metadata": {
  "kernelspec": {
   "display_name": "syncmaster",
   "language": "python",
   "name": "syncmaster"
  }
 },
 "nbformat": 4,
 "nbformat_minor": 5
}
